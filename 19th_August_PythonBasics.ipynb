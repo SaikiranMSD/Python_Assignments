{
 "cells": [
  {
   "cell_type": "code",
   "execution_count": 10,
   "id": "075f3a0b-c405-4d01-aff5-07a778a0222f",
   "metadata": {},
   "outputs": [
    {
     "name": "stdout",
     "output_type": "stream",
     "text": [
      "3 5\n"
     ]
    }
   ],
   "source": [
    "'''1. Declare two variables, `x` and `y`, and assign them integer values. Swap the\n",
    "values of these variables without using any temporary variable.\n",
    "'''\n",
    "x=5\n",
    "y=3\n",
    "x=x+y\n",
    "y=x-y\n",
    "x=x-y\n",
    "print(x,y)"
   ]
  },
  {
   "cell_type": "code",
   "execution_count": 12,
   "id": "bed01797-ba2d-4898-8534-0be9060c09e3",
   "metadata": {},
   "outputs": [
    {
     "name": "stdin",
     "output_type": "stream",
     "text": [
      "Enter the length 2\n",
      "Enter the breadth 3\n"
     ]
    },
    {
     "name": "stdout",
     "output_type": "stream",
     "text": [
      "6\n"
     ]
    }
   ],
   "source": [
    "'''\n",
    "2. Create a program that calculates the area of a rectangle. Take the length and\n",
    "width as inputs from the user and store them in variables. Calculate and\n",
    "display the area.\n",
    "'''\n",
    "length=int(input(\"Enter the length\"))\n",
    "breadth=int(input(\"Enter the breadth\"))\n",
    "res=length*breadth\n",
    "print(res)\n",
    "    "
   ]
  },
  {
   "cell_type": "code",
   "execution_count": 13,
   "id": "1931011a-2aef-4d18-b571-2ac5c67c48c7",
   "metadata": {},
   "outputs": [
    {
     "name": "stdin",
     "output_type": "stream",
     "text": [
      "Enter the temperature in celsius 12.8\n"
     ]
    },
    {
     "name": "stdout",
     "output_type": "stream",
     "text": [
      "55.040000000000006\n"
     ]
    }
   ],
   "source": [
    "'''3. Write a Python program that converts temperatures from Celsius to\n",
    "Fahrenheit. Take the temperature in Celsius as input, store it in a variable,\n",
    "convert it to Fahrenheit, and display the result.'''\n",
    "\n",
    "celsius=float(input(\"Enter the temperature in celsius\"))\n",
    "fahrenheit=celsius*(9/5)+32\n",
    "print(fahrenheit)"
   ]
  },
  {
   "cell_type": "code",
   "execution_count": 14,
   "id": "cfbe6eb8-5879-43cb-945d-e9c7de28950a",
   "metadata": {},
   "outputs": [
    {
     "name": "stdin",
     "output_type": "stream",
     "text": [
      "Enter your name saikiran\n"
     ]
    },
    {
     "name": "stdout",
     "output_type": "stream",
     "text": [
      "8\n"
     ]
    }
   ],
   "source": [
    "'''1. Write a Python program that takes a string as input and prints the length of\n",
    "the string.\n",
    "'''\n",
    "\n",
    "name=str(input(\"Enter your name\"))\n",
    "print(len(name))"
   ]
  },
  {
   "cell_type": "code",
   "execution_count": 20,
   "id": "0fcaf945-5e81-4b5c-81f7-77d0910c9562",
   "metadata": {},
   "outputs": [
    {
     "name": "stdin",
     "output_type": "stream",
     "text": [
      "Enter sentence saikiran\n"
     ]
    },
    {
     "name": "stdout",
     "output_type": "stream",
     "text": [
      "4\n"
     ]
    }
   ],
   "source": [
    "'''\n",
    "2. Create a program that takes a sentence from the user and counts the number\n",
    "of vowels (a, e, i, o, u) in the string.\n",
    "'''\n",
    "s=str(input(\"Enter sentence\"))\n",
    "count=0\n",
    "for i in s:\n",
    "    s1=i.lower()\n",
    "    \n",
    "    if s1=='a' or s1=='e' or s1=='i' or s1=='o' or s1=='u':\n",
    "        count+=1\n",
    "print(count)"
   ]
  },
  {
   "cell_type": "code",
   "execution_count": 21,
   "id": "41a18c30-48c6-453b-9b4d-4df534ff3f25",
   "metadata": {},
   "outputs": [
    {
     "name": "stdout",
     "output_type": "stream",
     "text": [
      "dlroW olleH\n"
     ]
    }
   ],
   "source": [
    "'''\n",
    "3. Given a string, reverse the order of characters using string slicing and print\n",
    "the reversed string.\n",
    "'''\n",
    "\n",
    "s=\"Hello World\"\n",
    "reverseds=s[::-1]\n",
    "print(reverseds)"
   ]
  },
  {
   "cell_type": "code",
   "execution_count": 24,
   "id": "1b64aed6-8afa-4e15-b2c0-61158145425a",
   "metadata": {},
   "outputs": [
    {
     "name": "stdin",
     "output_type": "stream",
     "text": [
      "Enter a string sai\n"
     ]
    },
    {
     "name": "stdout",
     "output_type": "stream",
     "text": [
      "It is not Palindrome\n"
     ]
    }
   ],
   "source": [
    "'''\n",
    "4. Write a program that takes a string as input and checks if it is a palindrome\n",
    "(reads the same forwards and backwards).\n",
    "'''\n",
    "s1=str(input(\"Enter a string\"))\n",
    "reverseds=s1[::-1]\n",
    "if(s1==reverseds):\n",
    "    print(\"It is Palindrome\")\n",
    "else:\n",
    "    print(\"It is not Palindrome\")"
   ]
  },
  {
   "cell_type": "code",
   "execution_count": 26,
   "id": "1c2a07d9-8999-4a4f-aa9a-5daef84da104",
   "metadata": {},
   "outputs": [
    {
     "data": {
      "text/plain": [
       "'Helloworld'"
      ]
     },
     "execution_count": 26,
     "metadata": {},
     "output_type": "execute_result"
    }
   ],
   "source": [
    "'''\n",
    "5. Create a program that takes a string as input and removes all the spaces from\n",
    "it. Print the modified string without spaces.\n",
    "'''\n",
    "\n",
    "s1=\"  Hello   world   \"\n",
    "s1.replace(\" \",\"\")"
   ]
  },
  {
   "cell_type": "code",
   "execution_count": null,
   "id": "dfd30c51-e90a-4960-a366-2000369768b9",
   "metadata": {},
   "outputs": [],
   "source": []
  }
 ],
 "metadata": {
  "kernelspec": {
   "display_name": "Python 3 (ipykernel)",
   "language": "python",
   "name": "python3"
  },
  "language_info": {
   "codemirror_mode": {
    "name": "ipython",
    "version": 3
   },
   "file_extension": ".py",
   "mimetype": "text/x-python",
   "name": "python",
   "nbconvert_exporter": "python",
   "pygments_lexer": "ipython3",
   "version": "3.10.8"
  }
 },
 "nbformat": 4,
 "nbformat_minor": 5
}
